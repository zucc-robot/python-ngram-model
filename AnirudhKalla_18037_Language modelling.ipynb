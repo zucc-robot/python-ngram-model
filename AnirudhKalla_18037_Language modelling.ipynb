{
 "cells": [
  {
   "cell_type": "code",
   "execution_count": 1,
   "metadata": {},
   "outputs": [],
   "source": [
    "import os\n",
    "path='C:/Users/Anirudh Kalla/Desktop/3rd Year/Computational Linguistics/Assignments/Assignment 02'\n",
    "os.chdir(path)"
   ]
  },
  {
   "cell_type": "code",
   "execution_count": 141,
   "metadata": {
    "scrolled": true
   },
   "outputs": [
    {
     "name": "stdout",
     "output_type": "stream",
     "text": [
      "TTR is 0.045684285368354345\n",
      "TTR inverse is 21.889365061463856\n",
      "Pearson Correlation Coefficient (-0.07626110199933203, 6.649291632000963e-47)\n"
     ]
    },
    {
     "data": {
      "text/plain": [
       "<Figure size 640x480 with 0 Axes>"
      ]
     },
     "metadata": {},
     "output_type": "display_data"
    }
   ],
   "source": [
    "import re\n",
    "from scipy.stats import pearsonr\n",
    "import numpy as np\n",
    "import matplotlib.pyplot as plt\n",
    "from operator import itemgetter \n",
    "from matplotlib.pyplot import figure\n",
    "figure(num=None, figsize=(8, 6), dpi=80, facecolor='w', edgecolor='k')\n",
    "frequency = {}\n",
    "open_file = open('brown-corpus.txt', 'r', encoding = \"utf8\")\n",
    "file_to_string = open_file.read()\n",
    "file_to_string = file_to_string.lower()\n",
    "words = re.findall(r'(\\b[A-Za-z][a-z]{2,9}\\b)', file_to_string)\n",
    "token_ = 0\n",
    "type_ = 0\n",
    "x = []\n",
    "y = []\n",
    "for word in words:\n",
    "    count = frequency.get(word,0)\n",
    "    frequency[word] = count + 1\n",
    "    token_=token_+1\n",
    "     \n",
    "for key, value in reversed(sorted(frequency.items(), key = itemgetter(1))):\n",
    "    type_=type_+1\n",
    "    #print (type_, key, value)\n",
    "    x.append(type_)\n",
    "    y.append(value)\n",
    "    #plt.plot(y, x) \n",
    "#plt.xlabel('Rank') \n",
    "#plt.ylabel('Frequency') \n",
    "#plt.title('Zipf Law') \n",
    "#plt.show() \n",
    "ttr = type_/token_\n",
    "ttr_inverse = 1/ttr\n",
    "pearson_corr_coeff = pearsonr(x, y)\n",
    "print('TTR is', ttr)\n",
    "print('TTR inverse is',ttr_inverse)\n",
    "print('Pearson Correlation Coefficient', pearson_corr_coeff)"
   ]
  },
  {
   "cell_type": "code",
   "execution_count": 142,
   "metadata": {},
   "outputs": [
    {
     "name": "stdout",
     "output_type": "stream",
     "text": [
      "Read  1014940  tokens\n",
      "Generated  100236  unigrams\n",
      "Generated  539927  bigrams\n"
     ]
    }
   ],
   "source": [
    "    import pandas as pd\n",
    "\n",
    "\n",
    "    lst = [] \n",
    "    unigrams = {}\n",
    "    bigrams = {} \n",
    "    uni=[]\n",
    "    bi=[]\n",
    "    text = open('brown-corpus.txt', 'r').read()\n",
    "    lst = text.strip().split()\n",
    "    print('Read ', len(lst), ' tokens')\n",
    "\n",
    "    del text\n",
    "\n",
    "\n",
    "    for l in lst:\n",
    "        if not l in unigrams:\n",
    "            unigrams[l] = 1\n",
    "        else:\n",
    "            unigrams[l] += 1\n",
    "            uni.append(l)\n",
    "    vocabulary=len(unigrams)        \n",
    "\n",
    "    print('Generated ', len(unigrams), ' unigrams')  \n",
    "\n",
    "    for i in range(len(lst) - 1):\n",
    "        temp = (lst[i], lst[i+1]) \n",
    "        if not temp in bigrams:\n",
    "            bigrams[temp] = 1\n",
    "        else:\n",
    "            bigrams[temp] += 1\n",
    "            bi.append(temp)\n",
    "\n",
    "    print('Generated ', len(bigrams), ' bigrams')\n",
    "\n",
    "\n",
    "    total_corpus = sum(unigrams.values())\n",
    "\n",
    "    #print('Bigram' + '\\t' '\\t'+ 'Bigram Count' + '\\t' '\\t'+ 'Uni Count' + '\\t' '\\t'+ 'Bigram Prob' + '\\n')\n",
    "\n",
    "    w=[]\n",
    "    x=[]\n",
    "    y=[]\n",
    "    for k,v in bigrams.items():\n",
    "        # first_word = helle in ('hello', 'world')\n",
    "        first_word = k[0]\n",
    "        first_word_count = unigrams[first_word]\n",
    "        bi_prob = bigrams[k] / unigrams[first_word]\n",
    "        bi_prob_laplace= (bigrams[k]+1) / (unigrams[first_word]+vocabulary)\n",
    "        x.append(bi_prob)\n",
    "        y.append(bi_prob_laplace)\n",
    "        uni_prob = unigrams[first_word] / total_corpus\n",
    "        w.append(uni_prob)\n",
    "        final_prob = bi_prob + uni_prob\n",
    "        #print(k[0] +'\\t'+ k[1] +'\\t'+'\\t' + str(v) + '\\t'+ '\\t'+ str(first_word_count) + '\\t'+ '\\t'+'\\t'+ str(bi_prob))"
   ]
  },
  {
   "cell_type": "code",
   "execution_count": 143,
   "metadata": {
    "scrolled": true
   },
   "outputs": [],
   "source": [
    "import matplotlib.pyplot as plt\n",
    "from numpy import random\n",
    "import seaborn as sns\n",
    "import numpy as np\n",
    "x_arr=np.array(x)\n",
    "#plt.hist(x_arr)\n",
    "#sns.distplot(random.chisquare(df=1, size=10), hist=True)\n",
    "#sns.distplot(lognorm.pdf(2.1,0.25), color='black', hist=True)\n",
    "#plt.show()"
   ]
  },
  {
   "cell_type": "code",
   "execution_count": 144,
   "metadata": {},
   "outputs": [],
   "source": [
    "y_arr=np.array(y)\n",
    "#plt.hist(y_arr)"
   ]
  },
  {
   "cell_type": "code",
   "execution_count": 145,
   "metadata": {},
   "outputs": [
    {
     "name": "stdout",
     "output_type": "stream",
     "text": [
      "100236\n"
     ]
    }
   ],
   "source": [
    "print(vocabulary)"
   ]
  },
  {
   "cell_type": "code",
   "execution_count": 146,
   "metadata": {},
   "outputs": [
    {
     "name": "stdout",
     "output_type": "stream",
     "text": [
      "0.061511025282282694\n",
      "0.035368593217333044\n"
     ]
    }
   ],
   "source": [
    "unique_w = set(w)\n",
    "largest_w = max(unique_w)\n",
    "unique_w.remove(largest_w)\n",
    "second_largest_w = max(unique_w) \n",
    "print(largest_w)\n",
    "print(second_largest_w)"
   ]
  },
  {
   "cell_type": "code",
   "execution_count": 147,
   "metadata": {},
   "outputs": [
    {
     "name": "stdout",
     "output_type": "stream",
     "text": [
      "jury\n",
      "of\n"
     ]
    }
   ],
   "source": [
    "indices1 = [i for i,x in enumerate(w) if x == 0.061511025282282694]\n",
    "indices2 = [i for i,x in enumerate(w) if x == 0.035368593217333044]\n",
    "print(uni[indices1[0]])\n",
    "print(uni[indices2[0]])"
   ]
  },
  {
   "cell_type": "code",
   "execution_count": 148,
   "metadata": {},
   "outputs": [
    {
     "data": {
      "text/plain": [
       "('of', 'the')"
      ]
     },
     "execution_count": 148,
     "metadata": {},
     "output_type": "execute_result"
    }
   ],
   "source": [
    "import statistics \n",
    "from statistics import mode \n",
    "mode(bi)"
   ]
  },
  {
   "cell_type": "code",
   "execution_count": 149,
   "metadata": {},
   "outputs": [
    {
     "name": "stdout",
     "output_type": "stream",
     "text": [
      "9.976455564866915e-06\n"
     ]
    }
   ],
   "source": [
    "unseen_bigram_prob=1/vocabulary\n",
    "print(unseen_bigram_prob)"
   ]
  },
  {
   "cell_type": "code",
   "execution_count": 150,
   "metadata": {},
   "outputs": [
    {
     "name": "stdout",
     "output_type": "stream",
     "text": [
      "Read  8  tokens\n",
      "Generated  8  unigrams\n",
      "{'<s>': 1, 'peter': 1, 'piper': 1, 'picked': 1, 'a': 1, 'pickled': 1, 'pepper': 1, '</s>': 1}\n",
      "Generated  7  bigrams\n",
      "{('<s>', 'peter'): 1, ('peter', 'piper'): 1, ('piper', 'picked'): 1, ('picked', 'a'): 1, ('a', 'pickled'): 1, ('pickled', 'pepper'): 1, ('pepper', '</s>'): 1}\n",
      "0.0\n"
     ]
    }
   ],
   "source": [
    "    lst_test = [] \n",
    "    unigrams_test = {}\n",
    "    bigrams_test = {} \n",
    "    uni_test=[]\n",
    "    bi_test=[]\n",
    "    text_test=\"<s> peter piper picked a pickled pepper </s>\"\n",
    "    lst_test = text_test.strip().split()\n",
    "    print('Read ', len(lst_test), ' tokens')\n",
    "    del text_test\n",
    "    for l in lst_test:\n",
    "        if not l in unigrams_test:\n",
    "            unigrams_test[l] = 1\n",
    "        else:\n",
    "            unigrams_test[l] += 1\n",
    "            uni_test.append(l)\n",
    "    vocabulary=len(unigrams_test)        \n",
    "    print('Generated ', len(unigrams_test), ' unigrams')  \n",
    "    \n",
    "    for i in range(len(lst_test) - 1):\n",
    "        temp = (lst_test[i], lst_test[i+1]) \n",
    "        if not temp in bigrams_test:\n",
    "            bigrams_test[temp] = 1\n",
    "        else:\n",
    "            bigrams_test[temp] += 1\n",
    "            bi_test.append(temp)\n",
    "    print(unigrams_test)\n",
    "    test_prob=1\n",
    "    print('Generated ', len(bigrams_test), ' bigrams') \n",
    "    print(bigrams_test)\n",
    "    u_test=list(unigrams.keys())\n",
    "    b_test=list(bigrams.keys())\n",
    "    for i in range(len(b_test)):\n",
    "        if b_test[i] in bigrams.keys():\n",
    "            test_prob=test_prob*bi_prob\n",
    "    print(test_prob)"
   ]
  },
  {
   "cell_type": "code",
   "execution_count": 151,
   "metadata": {},
   "outputs": [
    {
     "name": "stdout",
     "output_type": "stream",
     "text": [
      "Read  8  tokens\n",
      "Generated  8  unigrams\n",
      "{'<s>': 1, 'peter': 1, 'piper': 1, 'picked': 1, 'a': 1, 'pickled': 1, 'pepper': 1, '</s>': 1}\n",
      "Generated  7  bigrams\n",
      "{('<s>', 'peter'): 1, ('peter', 'piper'): 1, ('piper', 'picked'): 1, ('picked', 'a'): 1, ('a', 'pickled'): 1, ('pickled', 'pepper'): 1, ('pepper', '</s>'): 1}\n",
      "N\n",
      "N\n",
      "N\n",
      "N\n",
      "N\n",
      "N\n",
      "0.00000000000000000000000000000000001795733085778058\n"
     ]
    }
   ],
   "source": [
    "    lst_test = [] \n",
    "    unigrams_test = {}\n",
    "    bigrams_test = {} \n",
    "    uni_test=[]\n",
    "    bi_test=[]\n",
    "    text_test=\"<s> peter piper picked a pickled pepper </s>\"\n",
    "    lst_test = text_test.strip().split()\n",
    "    print('Read ', len(lst_test), ' tokens')\n",
    "    del text_test\n",
    "    for l in lst_test:\n",
    "        if not l in unigrams_test:\n",
    "            unigrams_test[l] = 1\n",
    "        else:\n",
    "            unigrams_test[l] += 1\n",
    "            uni_test.append(l)\n",
    "    vocabulary=len(unigrams_test)        \n",
    "    print('Generated ', len(unigrams_test), ' unigrams')  \n",
    "    \n",
    "    for i in range(len(lst_test) - 1):\n",
    "        temp = (lst_test[i], lst_test[i+1]) \n",
    "        if not temp in bigrams_test:\n",
    "            bigrams_test[temp] = 1\n",
    "        else:\n",
    "            bigrams_test[temp] += 1\n",
    "            bi_test.append(temp)\n",
    "    print(unigrams_test)\n",
    "    test_prob=1\n",
    "    print('Generated ', len(bigrams_test), ' bigrams') \n",
    "    print(bigrams_test)\n",
    "    u_test=list(unigrams.keys())\n",
    "    b_test=list(bigrams_test.keys())\n",
    "    for i in range(len(b_test)):\n",
    "        if b_test[i] in bigrams.keys():\n",
    "            test_prob=test_prob*bi_prob_laplace\n",
    "        else:\n",
    "            test_prob=test_prob*unseen_bigram_prob\n",
    "            print('N')\n",
    "    print(\"{:.50f}\".format(test_prob))"
   ]
  },
  {
   "cell_type": "code",
   "execution_count": 5,
   "metadata": {},
   "outputs": [
    {
     "name": "stdout",
     "output_type": "stream",
     "text": [
      "The LL of of x for mu = 5 and sd = 3 is: -1787575.5307\n",
      "The LL of of x for mu = 7 and sd = 3 is: -2485203.7530\n",
      "The LL of of x for df = 1 and size = 10 is: -685598.1701\n",
      "The LL of of x for lt = 5 and rt = 2 is: -121910.8477\n"
     ]
    }
   ],
   "source": [
    "import numpy as np\n",
    "from scipy.stats import norm \n",
    "from scipy.stats import lognorm \n",
    "def compare_data_to_dist(x, mu_1=5, mu_2=7, sd_1=3, sd_2=3):\n",
    "    ll_1 = 0\n",
    "    ll_2 = 0\n",
    "    ll_3 = 0\n",
    "    ll_4 = 0\n",
    "    for i in x:\n",
    "        ll_1 += np.log(norm.pdf(i, mu_1, sd_1))\n",
    "        ll_2 += np.log(norm.pdf(i, mu_2, sd_2))\n",
    "        ll_3 += np.log(random.chisquare(df=1))   \n",
    "        ll_4 += np.log(lognorm.pdf(1,0.5))\n",
    "    print(\"The LL of of x for mu = %d and sd = %d is: %.4f\" % (mu_1, sd_1, ll_1))\n",
    "    print(\"The LL of of x for mu = %d and sd = %d is: %.4f\" % (mu_2, sd_2, ll_2))\n",
    "    print(\"The LL of of x for df = %d and size = %d is: %.4f\" % (1, 10, ll_3))\n",
    "    print(\"The LL of of x for lt = %d and rt = %d is: %.4f\" % (5, 2, ll_4))\n",
    "\n",
    "compare_data_to_dist(x)"
   ]
  },
  {
   "cell_type": "code",
   "execution_count": 138,
   "metadata": {},
   "outputs": [
    {
     "data": {
      "image/png": "[encoded data removed]",
      "text/plain": [
       "<Figure size 432x288 with 1 Axes>"
      ]
     },
     "metadata": {
      "needs_background": "light"
     },
     "output_type": "display_data"
    },
    {
     "name": "stdout",
     "output_type": "stream",
     "text": [
      "[5.75257616e-07 1.15986317e-03 6.39924507e-05 ... 3.71156214e-03\n",
      " 3.71156214e-03 3.87630511e-07]\n"
     ]
    }
   ],
   "source": [
    "import numpy as np\n",
    "import matplotlib.pyplot as plt\n",
    "from scipy.stats import norm\n",
    "from sklearn.neighbors import KernelDensity\n",
    "import math\n",
    "xn=np.array(x)\n",
    "normalized_xn = xn / math.sqrt(max(sum(xn**2), 1e-12)) # L2: Matrix Norm\n",
    "\n",
    "X_plot = np.linspace(-5, 5, 19)[:, np.newaxis]\n",
    "\n",
    "fig, ax = plt.subplots()\n",
    "#ax.fill(X_plot[:], normalized_xn, fc='black', alpha=0.5, label='input distribution')\n",
    "\n",
    "for kernel in ['epanechnikov', 'tophat', 'gaussian']:\n",
    "    kde = KernelDensity(kernel=kernel, bandwidth=0.5).fit(normalized_xn.reshape(-1,1))\n",
    "    log_dens = kde.score_samples(X_plot)\n",
    "    ax.plot(X_plot[:, 0], np.exp(log_dens), '-',\n",
    "            label=\"kernel = '{0}'\".format(kernel)) #To model the bimodal distribution of bigram probability data\n",
    "\n",
    "\n",
    "ax.legend(loc='upper left')\n",
    "ax.plot(normalized_xn[:], np.random.random(normalized_xn.shape[0]), '+k')\n",
    "\n",
    "ax.set_xlim(-4, 5)\n",
    "ax.set_ylim(-0.02, 5)\n",
    "plt.show()\n",
    "print(normalized_xn)"
   ]
  }
 ],
 "metadata": {
  "kernelspec": {
   "display_name": "Python 3",
   "language": "python",
   "name": "python3"
  },
  "language_info": {
   "codemirror_mode": {
    "name": "ipython",
    "version": 3
   },
   "file_extension": ".py",
   "mimetype": "text/x-python",
   "name": "python",
   "nbconvert_exporter": "python",
   "pygments_lexer": "ipython3",
   "version": "3.7.6"
  }
 },
 "nbformat": 4,
 "nbformat_minor": 4
}
